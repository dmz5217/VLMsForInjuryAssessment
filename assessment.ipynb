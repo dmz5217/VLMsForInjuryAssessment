{
 "cells": [
  {
   "cell_type": "code",
   "execution_count": 26,
   "metadata": {},
   "outputs": [
    {
     "data": {
      "text/plain": [
       "True"
      ]
     },
     "execution_count": 26,
     "metadata": {},
     "output_type": "execute_result"
    }
   ],
   "source": [
    "import os\n",
    "from dotenv import load_dotenv\n",
    "import anthropic\n",
    "import openai\n",
    "import base64\n",
    "import json\n",
    "import requests\n",
    "import pandas as pd\n",
    "load_dotenv()\n"
   ]
  },
  {
   "cell_type": "code",
   "execution_count": 27,
   "metadata": {},
   "outputs": [],
   "source": [
    "claude_key = os.getenv(\"CLAUDE_KEY\")\n",
    "openai_key = os.getenv(\"OPENAI_KEY\")\n",
    "gemini_key = os.getenv(\"GEMINI_KEY\")\n",
    "qwen_key = os.getenv(\"QWEN_KEY\")\n"
   ]
  },
  {
   "cell_type": "markdown",
   "metadata": {},
   "source": [
    "## API VLM Query Helpers"
   ]
  },
  {
   "cell_type": "code",
   "execution_count": 28,
   "metadata": {},
   "outputs": [],
   "source": [
    "def claude_review(filepath, prompt):\n",
    "\n",
    "    with open(filepath, \"rb\") as image_file:\n",
    "        image_data = base64.b64encode(image_file.read()).decode('utf-8')  # Ensure the image data is in base64 string format\n",
    "    \n",
    "    \n",
    "    #check the media type of the image\n",
    "    image_media_type = \"image/jpeg\" if filepath.endswith(\".jpg\") else \"image/png\"\n",
    "\n",
    "    client = anthropic.Anthropic(\n",
    "        api_key=claude_key\n",
    "    )\n",
    "    response = client.messages.create(\n",
    "        model=\"claude-3-haiku-20240307\",\n",
    "        max_tokens=1024,\n",
    "        messages=[\n",
    "            {\n",
    "                \"role\": \"user\",\n",
    "                \"content\": [\n",
    "                    {\n",
    "                        \"type\": \"image\",\n",
    "                        \"source\": {\n",
    "                            \"type\": \"base64\",\n",
    "                            \"media_type\": image_media_type,\n",
    "                            \"data\": image_data,\n",
    "                        },\n",
    "                    },\n",
    "                    {\n",
    "                        \"type\": \"text\",\n",
    "                        \"text\": prompt\n",
    "                    }\n",
    "                ],\n",
    "            }\n",
    "        ],\n",
    "    )\n",
    "    return response.content[0].text"
   ]
  },
  {
   "cell_type": "code",
   "execution_count": 31,
   "metadata": {},
   "outputs": [],
   "source": [
    "def openai_review(filepath, prompt):\n",
    "    #TODO: Implement OpenAI review\n",
    "    #https://platform.openai.com/docs/quickstart\n",
    "    return \"OpenAI review not implemented yet\""
   ]
  },
  {
   "cell_type": "code",
   "execution_count": 32,
   "metadata": {},
   "outputs": [],
   "source": [
    "def qwen_review(filepath, prompt):\n",
    "    #TODO: Implement Qwen review\n",
    "    #https://www.alibabacloud.com/help/en/model-studio/developer-reference/use-qwen-by-calling-api\n",
    "    return \"Qwen review not implemented yet\""
   ]
  },
  {
   "cell_type": "code",
   "execution_count": 33,
   "metadata": {},
   "outputs": [],
   "source": [
    "def gemini_key(filepath, prompt):\n",
    "    #TODO: Implement Gemini review\n",
    "    #https://ai.google.dev/gemini-api?gad_source=1&gclid=Cj0KCQjwj4K5BhDYARIsAD1Ly2r_KaDE-fC0T3O2E0sA0kqv2WdncwLTkye_XaRwJ2tWEHm3tw9o5rUaAv83EALw_wcB\n",
    "    return \"Gemini review not implemented yet\""
   ]
  },
  {
   "cell_type": "markdown",
   "metadata": {},
   "source": [
    "## Dataset Assessment"
   ]
  },
  {
   "cell_type": "code",
   "execution_count": 37,
   "metadata": {},
   "outputs": [
    {
     "name": "stdout",
     "output_type": "stream",
     "text": [
      "The image shows a young man sitting on the ground in an outdoor setting, surrounded by lush green vegetation. He appears to be laughing or expressing joy, with a wide, open-mouthed smile on his face. The man is wearing a grey hooded sweatshirt, dark shorts, and bright blue sneakers. His body language and facial expression suggest he is feeling happy and relaxed in the natural environment.\n"
     ]
    }
   ],
   "source": [
    "print(claude_review(\"images/injured_man.jpg\", \"what is happening in this image?\"))"
   ]
  },
  {
   "cell_type": "code",
   "execution_count": 44,
   "metadata": {},
   "outputs": [
    {
     "name": "stdout",
     "output_type": "stream",
     "text": [
      "injured_man.jpg\n",
      "images/injured_man.jpg\n",
      "Claude: The image shows a young man sitting on the ground, laughing joyfully. He is wearing a gray hoodie and blue shorts, and has a big smile on his face. The background is a lush, green grassy area, suggesting an outdoor setting. The person's expression conveys a sense of happiness and contentment.\n",
      "\n",
      "\n"
     ]
    }
   ],
   "source": [
    "#loop through the images directory and have each of the vlms assess the images given a prompt\n",
    "#save it to a csv\n",
    "#it should have the image name, the prompt, the response from each vlms\n",
    "\n",
    "prompt = \"what is happening in this image?\" #EDIT\n",
    "df = pd.DataFrame(columns=[\"Image\", \"Prompt\", \"Model\", \"Response\"])\n",
    "image_name = []\n",
    "prompt = \"what is happening in this image?\" #MODFIY according to the model\n",
    "prompts = []\n",
    "model = []\n",
    "response = []\n",
    "for image in os.listdir(\"images\"):\n",
    "    print(image)\n",
    "    filepath = f\"images/{image}\"\n",
    "    print(filepath)\n",
    "    #print(f\"Qwen: {qwen_review(f'images/{image}', prompt)}\")\n",
    "    print(f\"Claude: {claude_review(filepath, prompt)}\")\n",
    "    #print(f\"OpenAI: {openai_review(f'images/{image}', prompt)}\")\n",
    "    #print(f\"Gemini: {gemini_key(f'images/{image}', prompt)}\")\n",
    "    print(\"\\n\")\n",
    "\n",
    "    #add a new row to the dataframe\n",
    "    image_name.append(image)\n",
    "    prompts.append(prompt)\n",
    "    model.append(\"Claude\")\n",
    "    response.append(claude_review(f'images/{image}', prompt))\n",
    "''' \n",
    "    image_name.append(image)\n",
    "    prompts.append(prompt)\n",
    "    model.append(\"OpenAI\")\n",
    "    response.append(openai_review(f'images/{image}', prompt))\n",
    "\n",
    "    image_name.append(image)\n",
    "    prompts.append(prompt)\n",
    "    model.append(\"Qwen\")\n",
    "    response.append(qwen_review(f'images/{image}', prompt)) #Should start working after the things are fixed\n",
    "\n",
    "    image_name.append(image)\n",
    "    prompts.append(prompt)\n",
    "    model.append(\"Gemini\")\n",
    "    response.append(gemini_key(f'images/{image}', prompt))\n",
    "'''\n",
    "\n",
    "df[\"Image\"] = image_name\n",
    "df[\"Prompt\"] = prompt\n",
    "df[\"Model\"] = model\n",
    "df[\"Response\"] = response\n",
    "#df.to_csv(\"image_assessment.csv\", index=False)\n"
   ]
  },
  {
   "cell_type": "markdown",
   "metadata": {},
   "source": [
    "#TODO:\n",
    "1. Implement the API Calls\n",
    "2. Do a cost assessment\n",
    "3. Finetune the different levels of LLaVA \n",
    "4. LoRA the different levels of LLaVA\n",
    "5. Run the mannequin images through everything\n",
    "6. Analysis"
   ]
  }
 ],
 "metadata": {
  "kernelspec": {
   "display_name": "vlm_assess",
   "language": "python",
   "name": "python3"
  },
  "language_info": {
   "codemirror_mode": {
    "name": "ipython",
    "version": 3
   },
   "file_extension": ".py",
   "mimetype": "text/x-python",
   "name": "python",
   "nbconvert_exporter": "python",
   "pygments_lexer": "ipython3",
   "version": "3.12.7"
  }
 },
 "nbformat": 4,
 "nbformat_minor": 2
}
